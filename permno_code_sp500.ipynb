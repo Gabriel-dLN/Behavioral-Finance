{
 "cells": [
  {
   "cell_type": "markdown",
   "metadata": {},
   "source": [
    "# PERMNO numbers\n",
    "\n",
    "The purpose of this code is to get all the PERMNO numbers of the companies of the S&P 500."
   ]
  },
  {
   "cell_type": "code",
   "execution_count": null,
   "metadata": {},
   "outputs": [],
   "source": [
    "import wrds\n",
    "import pandas as pd\n",
    "conn=wrds.Connection()"
   ]
  },
  {
   "cell_type": "code",
   "execution_count": 12,
   "metadata": {},
   "outputs": [],
   "source": [
    "sp500 = conn.raw_sql(\"\"\"\n",
    "                        select a.*, b.date, b.ret\n",
    "                        from crsp.msp500list as a,\n",
    "                        crsp.msf as b\n",
    "                        where a.permno=b.permno\n",
    "                        and b.date >= a.start and b.date<= a.ending\n",
    "                        and b.date>='01/01/1990'\n",
    "                        order by date;\n",
    "                        \"\"\", date_cols=['start', 'ending', 'date'])"
   ]
  },
  {
   "cell_type": "code",
   "execution_count": 13,
   "metadata": {},
   "outputs": [],
   "source": [
    "# Add Other Descriptive Variables\n",
    "\n",
    "mse = conn.raw_sql(\"\"\"\n",
    "                        select comnam, ncusip, namedt, nameendt, \n",
    "                        permno, shrcd, exchcd, hsiccd, ticker\n",
    "                        from crsp.msenames\n",
    "                        \"\"\", date_cols=['namedt', 'nameendt'])\n",
    "\n",
    "# if nameendt is missing then set to today date\n",
    "mse['nameendt']=mse['nameendt'].fillna(pd.to_datetime('today'))\n",
    "\n",
    "# Merge with SP500 data\n",
    "sp500_full = pd.merge(sp500, mse, how = 'left', on = 'permno')\n",
    "\n",
    "# Impose the date range restrictions\n",
    "sp500_full = sp500_full.loc[(sp500_full.date>=sp500_full.namedt) \\\n",
    "                            & (sp500_full.date<=sp500_full.nameendt)]"
   ]
  },
  {
   "cell_type": "code",
   "execution_count": null,
   "metadata": {},
   "outputs": [],
   "source": [
    "# Linking with Compustat through CCM\n",
    "\n",
    "ccm=conn.raw_sql(\"\"\"\n",
    "                  select gvkey, liid as iid, lpermno as permno, linktype, linkprim, \n",
    "                  linkdt, linkenddt\n",
    "                  from crsp.ccmxpf_linktable\n",
    "                  where substr(linktype,1,1)='L'\n",
    "                  and (linkprim ='C' or linkprim='P')\n",
    "                  \"\"\", date_cols=['linkdt', 'linkenddt'])\n",
    "\n",
    "# if linkenddt is missing then set to today date\n",
    "ccm['linkenddt']=ccm['linkenddt'].fillna(pd.to_datetime('today'))\n",
    "\n",
    "# Merge the CCM data with S&P500 data\n",
    "# First just link by matching PERMNO\n",
    "sp500ccm = pd.merge(sp500_full, ccm, how='left', on=['permno'])\n",
    "\n",
    "# Then set link date bounds\n",
    "sp500ccm = sp500ccm.loc[(sp500ccm['date']>=sp500ccm['linkdt'])\\\n",
    "                        &(sp500ccm['date']<=sp500ccm['linkenddt'])]\n",
    "\n",
    "# Rearrange columns for final output\n",
    "\n",
    "sp500ccm = sp500ccm.drop(columns=['namedt', 'nameendt', \\\n",
    "                                  'linktype', 'linkprim', 'linkdt', 'linkenddt'])\n",
    "sp500ccm = sp500ccm[['date', 'permno', 'comnam', 'ncusip', 'shrcd', 'exchcd', 'hsiccd', 'ticker', \\\n",
    "                     'gvkey', 'iid', 'start', 'ending', 'ret']]\n",
    "\n",
    "\n",
    "sp500ccm.to_csv('sp500ccm.csv', index=False)"
   ]
  },
  {
   "cell_type": "code",
   "execution_count": null,
   "metadata": {},
   "outputs": [],
   "source": [
    "import numpy as np\n",
    "lumpy_array = sp500ccm['permno'].unique()\n",
    "\n",
    "# Flatten the lumpy array\n",
    "flat_list = []\n",
    "def flatten_array(arr):\n",
    "    for item in arr:\n",
    "        if isinstance(item, (list, np.ndarray)):\n",
    "            flatten_array(item)\n",
    "        else:\n",
    "            flat_list.append(item)\n",
    "\n",
    "flatten_array(lumpy_array)\n",
    "\n",
    "# Write the flattened list to a text file\n",
    "with open(\"output.txt\", \"w\") as file:\n",
    "    for number in flat_list:\n",
    "        file.write(f\"{number}\\n\")"
   ]
  }
 ],
 "metadata": {
  "kernelspec": {
   "display_name": "Python 3",
   "language": "python",
   "name": "python3"
  },
  "language_info": {
   "codemirror_mode": {
    "name": "ipython",
    "version": 3
   },
   "file_extension": ".py",
   "mimetype": "text/x-python",
   "name": "python",
   "nbconvert_exporter": "python",
   "pygments_lexer": "ipython3",
   "version": "3.12.3"
  }
 },
 "nbformat": 4,
 "nbformat_minor": 2
}
